{
 "cells": [
  {
   "cell_type": "code",
   "execution_count": null,
   "metadata": {},
   "outputs": [],
   "source": [
    "import cudf\n",
    "from cuml.preprocessing.model_selection import train_test_split\n",
    "import numpy as np\n",
    "import pandas as pd\n",
    "from sklearn.datasets import make_classification"
   ]
  },
  {
   "cell_type": "code",
   "execution_count": null,
   "metadata": {},
   "outputs": [],
   "source": [
    "# generate fake data\n",
    "n_samples, n_cat_features, n_cont_features, n_classes = 10_000, 2, 100, 2\n",
    "features_cat_numpy = np.random.binomial(1, 0.5, size=(n_samples, n_cat_features))\n",
    "features_cont_numpy, labels_numpy = make_classification(n_samples=n_samples, n_features=n_cont_features)\n",
    "\n",
    "# combine dataset\n",
    "dataset_numpy = np.c_[features_cat_numpy, features_cont_numpy, labels_numpy]\n",
    "\n",
    "\n",
    "# set types\n",
    "dataset_numpy = dataset_numpy.astype(np.float64)\n",
    "\n",
    "print(dataset_numpy.dtype)\n",
    "print(dataset_numpy.shape)\n",
    "print(dataset_numpy[0])"
   ]
  },
  {
   "cell_type": "code",
   "execution_count": null,
   "metadata": {},
   "outputs": [],
   "source": [
    "# create dataframe\n",
    "df = pd.DataFrame(dataset_numpy)\n",
    "\n",
    "# set column names\n",
    "column_names = []\n",
    "column_names += ['feature_cat_{}'.format(i) for i in range(n_cat_features)]\n",
    "column_names += ['feature_cont_{}'.format(i) for i in range(n_cont_features)]\n",
    "column_names += ['target']\n",
    "df.columns = column_names\n",
    "\n",
    "print(df.dtypes)\n",
    "print(df.shape)"
   ]
  },
  {
   "cell_type": "code",
   "execution_count": null,
   "metadata": {},
   "outputs": [],
   "source": [
    "# convert to cudf\n",
    "gdf = cudf.DataFrame.from_pandas(df)\n",
    "print(gdf)"
   ]
  },
  {
   "cell_type": "code",
   "execution_count": null,
   "metadata": {},
   "outputs": [],
   "source": [
    "# split datasets\n",
    "X_train, X_test, y_train, y_test = train_test_split(gdf, 'target', train_size=0.80)"
   ]
  },
  {
   "cell_type": "code",
   "execution_count": null,
   "metadata": {},
   "outputs": [],
   "source": [
    "# recombine\n",
    "train_gdf = cudf.concat([X_train, cudf.DataFrame({'target': y_train})], axis=1)\n",
    "test_gdf = cudf.concat([X_test, cudf.DataFrame({'target': y_test})], axis=1)"
   ]
  },
  {
   "cell_type": "code",
   "execution_count": null,
   "metadata": {},
   "outputs": [],
   "source": [
    "# # write to parquet\n",
    "# filename = 'dataset.parquet'\n",
    "# cudf.io.parquet.to_parquet(gdf, filename)\n",
    "\n",
    "# write to csv\n",
    "filename = 'train_dataset.csv'\n",
    "cudf.io.csv.to_csv(train_gdf, filename, index=False)\n",
    "\n",
    "filename = 'test_dataset.csv'\n",
    "cudf.io.csv.to_csv(test_gdf, filename, index=False)"
   ]
  },
  {
   "cell_type": "code",
   "execution_count": null,
   "metadata": {},
   "outputs": [],
   "source": [
    "# # load data\n",
    "# gdf = cudf.io.parquet.read_parquet(filename)\n",
    "\n",
    "# load data\n",
    "# gdf = cudf.io.csv.read_csv(filename, index_col='Unnamed: 0')\n",
    "gdf = cudf.io.csv.read_csv(filename)"
   ]
  },
  {
   "cell_type": "code",
   "execution_count": null,
   "metadata": {},
   "outputs": [],
   "source": [
    "print(gdf)\n",
    "print(gdf.columns)"
   ]
  },
  {
   "cell_type": "code",
   "execution_count": null,
   "metadata": {},
   "outputs": [],
   "source": []
  }
 ],
 "metadata": {
  "kernelspec": {
   "display_name": "Python 3",
   "language": "python",
   "name": "python3"
  },
  "language_info": {
   "codemirror_mode": {
    "name": "ipython",
    "version": 3
   },
   "file_extension": ".py",
   "mimetype": "text/x-python",
   "name": "python",
   "nbconvert_exporter": "python",
   "pygments_lexer": "ipython3",
   "version": "3.6.7"
  }
 },
 "nbformat": 4,
 "nbformat_minor": 4
}
